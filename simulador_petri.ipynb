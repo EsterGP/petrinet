{
  "nbformat": 4,
  "nbformat_minor": 0,
  "metadata": {
    "colab": {
      "name": "simulador_petri.ipynb",
      "provenance": [],
      "authorship_tag": "ABX9TyOS8DNOmC/Xzx/MsNRxZZyd",
      "include_colab_link": true
    },
    "kernelspec": {
      "name": "python3",
      "display_name": "Python 3"
    },
    "language_info": {
      "name": "python"
    }
  },
  "cells": [
    {
      "cell_type": "markdown",
      "metadata": {
        "id": "view-in-github",
        "colab_type": "text"
      },
      "source": [
        "<a href=\"https://colab.research.google.com/github/EsterGP/petrinet/blob/main/simulador_petri.ipynb\" target=\"_parent\"><img src=\"https://colab.research.google.com/assets/colab-badge.svg\" alt=\"Open In Colab\"/></a>"
      ]
    },
    {
      "cell_type": "code",
      "metadata": {
        "id": "wrskm5pJRiEn",
        "colab": {
          "base_uri": "https://localhost:8080/"
        },
        "outputId": "53c40af7-fbe8-4bdc-9327-f5d2ff593ae8"
      },
      "source": [
        "import numpy as np\n",
        "\n",
        "P = [\"p1\",\"p2\",\"p3\"]\n",
        "T = [\"t1\",\"t2\",\"t3\"]\n",
        "I = [[1, 0, 0],[0, 1, 0],[0, 0, 1]]\n",
        "O = [[0, 1, 0],[0, 0, 1],[1, 0, 0]]\n",
        "M = [1,0,0]\n",
        "\n",
        "Pre = I\n",
        "Pos = np.array(O).T\n",
        "\n",
        "A = Pre - Pos"
      ],
      "execution_count": 14,
      "outputs": [
        {
          "output_type": "execute_result",
          "data": {
            "text/plain": [
              "array([[ 1,  0, -1],\n",
              "       [-1,  1,  0],\n",
              "       [ 0, -1,  1]])"
            ]
          },
          "metadata": {},
          "execution_count": 14
        }
      ]
    }
  ]
}