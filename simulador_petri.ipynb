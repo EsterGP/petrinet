{
  "nbformat": 4,
  "nbformat_minor": 0,
  "metadata": {
    "colab": {
      "name": "simulador_petri.ipynb",
      "provenance": [],
      "authorship_tag": "ABX9TyP/H/cKlVF4sTmVkAyEnwL5",
      "include_colab_link": true
    },
    "kernelspec": {
      "name": "python3",
      "display_name": "Python 3"
    },
    "language_info": {
      "name": "python"
    }
  },
  "cells": [
    {
      "cell_type": "markdown",
      "metadata": {
        "id": "view-in-github",
        "colab_type": "text"
      },
      "source": [
        "<a href=\"https://colab.research.google.com/github/EsterGP/petrinet/blob/main/simulador_petri.ipynb\" target=\"_parent\"><img src=\"https://colab.research.google.com/assets/colab-badge.svg\" alt=\"Open In Colab\"/></a>"
      ]
    },
    {
      "cell_type": "code",
      "metadata": {
        "colab": {
          "base_uri": "https://localhost:8080/"
        },
        "id": "_obRNRyQDoXb",
        "outputId": "8ae663d5-28ab-4088-d671-58606deb3bf8"
      },
      "source": [
        "class no():\n",
        "  def __init__(self, valor, trans):\n",
        "    self.valor = valor\n",
        "    self.trans = trans\n",
        "    \n",
        "main()"
      ],
      "execution_count": 12,
      "outputs": [
        {
          "output_type": "stream",
          "name": "stdout",
          "text": [
            "[1, 0, 0]\n"
          ]
        }
      ]
    },
    {
      "cell_type": "code",
      "metadata": {
        "id": "wYTjN31nYC6s"
      },
      "source": [
        "def inserir():\n",
        "  "
      ],
      "execution_count": null,
      "outputs": []
    },
    {
      "cell_type": "code",
      "metadata": {
        "id": "fDdnbGW6YGAT"
      },
      "source": [
        "def buscar():"
      ],
      "execution_count": null,
      "outputs": []
    },
    {
      "cell_type": "code",
      "metadata": {
        "id": "0Q8955YQYH37"
      },
      "source": [
        "def main():\n",
        "  P = [\"p1\",\"p2\",\"p3\"]\n",
        "  T = [\"t1\",\"t2\",\"t3\"]\n",
        "  I = [[1, 0, 0],[0, 1, 0],[0, 0, 1]]\n",
        "  O = [[0, 1, 0],[0, 0, 1],[1, 0, 0]]\n",
        "  M0 = [1,0,0]\n",
        "  raiz = no(M0, None)\n",
        "  print(raiz.valor)"
      ],
      "execution_count": null,
      "outputs": []
    }
  ]
}