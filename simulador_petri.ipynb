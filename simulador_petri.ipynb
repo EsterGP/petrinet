{
  "nbformat": 4,
  "nbformat_minor": 0,
  "metadata": {
    "colab": {
      "name": "simulador_petri.ipynb",
      "provenance": [],
      "authorship_tag": "ABX9TyO7YeXp2t6QI/EzGEn49Io+",
      "include_colab_link": true
    },
    "kernelspec": {
      "name": "python3",
      "display_name": "Python 3"
    },
    "language_info": {
      "name": "python"
    }
  },
  "cells": [
    {
      "cell_type": "markdown",
      "metadata": {
        "id": "view-in-github",
        "colab_type": "text"
      },
      "source": [
        "<a href=\"https://colab.research.google.com/github/EsterGP/petrinet/blob/main/simulador_petri.ipynb\" target=\"_parent\"><img src=\"https://colab.research.google.com/assets/colab-badge.svg\" alt=\"Open In Colab\"/></a>"
      ]
    },
    {
      "cell_type": "code",
      "metadata": {
        "id": "_obRNRyQDoXb"
      },
      "source": [
        "!pip install anytree\n",
        "from anytree import Node, RenderTree\n",
        "\n",
        "class no():\n",
        "  def __init__(self):\n",
        "    self.valor = None\n",
        "    self.pai = []\n",
        "    self.filho = []\n",
        "    self.trans = None\n",
        "\n",
        "main()"
      ],
      "execution_count": null,
      "outputs": []
    },
    {
      "cell_type": "code",
      "metadata": {
        "id": "52lcMZDQQh4r"
      },
      "source": [
        "def inserir_no(u, index, p, t):\n",
        "  u.append(no())\n",
        "  u[index].pai = p\n",
        "  u[index].trans = t"
      ],
      "execution_count": null,
      "outputs": []
    },
    {
      "cell_type": "code",
      "metadata": {
        "id": "ICfoDbf6EQeW"
      },
      "source": [
        "def matriz_incidencia(Pre, Pos):\n",
        "  A = []\n",
        "  for i in range(len(Pre)):\n",
        "    A.append([])\n",
        "    for j in range(len(Pre[0])):\n",
        "      A[i].append(Pos[i][j] - Pre[i][j])\n",
        "      \n",
        "    print(A[i])\n"
      ],
      "execution_count": 163,
      "outputs": []
    },
    {
      "cell_type": "code",
      "metadata": {
        "id": "_gSoxRpaP7MO"
      },
      "source": [
        "def linguagem(L):\n",
        "  aux_ling = ''\n",
        "  for i in range(len(L)):\n",
        "    aux_ling += L[i]\n",
        "  print(aux_ling)"
      ],
      "execution_count": 164,
      "outputs": []
    },
    {
      "cell_type": "code",
      "metadata": {
        "id": "0Q8955YQYH37"
      },
      "source": [
        "def main():\n",
        "  #informações inicias da rede\n",
        "  #EXEMPLO 1\n",
        "  \n",
        "  P = [\"p1\",\"p2\",\"p3\"]  #Lugares\n",
        "  T = [\"t1\",\"t2\",\"t3\"]  #Transições\n",
        "  Pre = [[1, 0, 0],[0, 1, 0],[0, 0, 1]]\n",
        "  Pos = [[0, 0, 1],[1, 0, 0],[0, 1, 0]]\n",
        "  M0 = [1,0,0]          #marcação inicial\n",
        "  \n",
        "\n",
        "  #EXEMPLO 2\n",
        "  \"\"\"\n",
        "  P = [\"p1\",\"p2\"]\n",
        "  T = [\"t1\"]\n",
        "  Pre = [[1], [0]]\n",
        "  Pos = [[0], [2]]\n",
        "  M0 = [1,0]\n",
        "  \"\"\"\n",
        "\n",
        "  #EXEMPLO 3\n",
        "  \"\"\"\n",
        "  P = [\"p1\",\"p2\",\"p3\",\"p4\",\"p5\",\"p6\"]\n",
        "  T = [\"t1\",\"t2\"]\n",
        "  Pre = [[1, 0],[1, 0],[0, 1],[0, 0],[0, 0],[0, 0]]\n",
        "  Pos = [[0, 0],[0, 0],[1, 0],[0, 1],[0, 2],[0, 3]]\n",
        "  M0 = [1, 1, 0, 0, 0, 0]\n",
        "  \"\"\"\n",
        "\n",
        "  #EXEMPLO 4\n",
        "  \"\"\"\n",
        "  P = [\"p1\",\"p2\",\"p3\"]\n",
        "  T = [\"t1\",\"t2\",\"t3\"]\n",
        "  Pre = [[1, 1, 0],[0, 0, 1],[0, 0, 1]]\n",
        "  Pos = [[1, 0, 0],[1, 1, 0],[0, 1, 1]]\n",
        "  M0 = [1, 0, 0]\n",
        "  \"\"\"\n",
        "\n",
        "  print(\"\\nMatriz de Incidência\")\n",
        "  print(\"A = \")\n",
        "  matriz_incidencia(Pre, Pos)\n",
        "\n",
        "  L = [] #Linguagem da rede\n",
        "  u = [] #Lista com as marcações\n",
        "  k = 0\n",
        "  aux = M0.copy()\n",
        "\n",
        "  disparavel = True\n",
        "\n",
        "  raiz = no()\n",
        "  root = Node(M0)\n",
        "  u.append(raiz)\n",
        "  raiz.valor = M0\n",
        "\n",
        "  #fixa j que equivale a transição\n",
        "  for j in range(len(T)):\n",
        "    disparavel = True\n",
        "\n",
        "    #percorre i que equivale aos lugares\n",
        "    for i in range(len(P)):\n",
        "      if u[k].valor[i] < Pre[i][j]:\n",
        "        disparavel = False\n",
        "        break\n",
        "    if disparavel == True:\n",
        "      L.append(T[j])\n",
        "      k = k + 1\n",
        "\n",
        "      #inserir_no(u, k, raiz, T[i])\n",
        "\n",
        "      u.append(no())\n",
        "      u[k].pai = u[k-1]\n",
        "      u[k].trans = T[j]\n",
        "      u[k].pai.filho = u[k]\n",
        "\n",
        "      #pegar o novo valor de M\n",
        "      for i in range(len(P)):\n",
        "        aux[i] = u[k-1].valor[i] - Pre[i][j] + Pos[i][j]\n",
        "      u[k].valor = aux.copy()\n",
        "\n",
        "  print(\"\\nLinguagem da rede\")\n",
        "  linguagem(L)\n",
        "\n",
        "  print(\"\\nArvore de Alcançabilidade\")\n",
        "  if len(u) >= 2:\n",
        "    level_1_child_1 = Node(u[1].valor, parent=root)\n",
        "  if len(u) >= 3:\n",
        "    level_2_child_1 = Node(u[2].valor, parent=level_1_child_1)\n",
        "  if len(u) >= 4:\n",
        "    level_3_child_1 = Node(u[3].valor, parent=level_2_child_1)\n",
        "  if len(u) >= 5:\n",
        "    level_4_child_1 = Node(u[4].valor, parent=level_3_child_1)\n",
        "\n",
        "  i = 0\n",
        "  for pre, fill, node in RenderTree(root):\n",
        "    print(\"%s%s\" % (pre, node.name))\n",
        "    if i < len(u)-1:\n",
        "      print(T[i])\n",
        "      i += 1"
      ],
      "execution_count": 165,
      "outputs": []
    }
  ]
}