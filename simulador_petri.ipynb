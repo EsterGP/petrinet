{
  "nbformat": 4,
  "nbformat_minor": 0,
  "metadata": {
    "colab": {
      "name": "simulador_petri.ipynb",
      "provenance": [],
      "authorship_tag": "ABX9TyNqdWOemL84rk8jaz4x0wLz",
      "include_colab_link": true
    },
    "kernelspec": {
      "name": "python3",
      "display_name": "Python 3"
    },
    "language_info": {
      "name": "python"
    }
  },
  "cells": [
    {
      "cell_type": "markdown",
      "metadata": {
        "id": "view-in-github",
        "colab_type": "text"
      },
      "source": [
        "<a href=\"https://colab.research.google.com/github/EsterGP/petrinet/blob/main/simulador_petri.ipynb\" target=\"_parent\"><img src=\"https://colab.research.google.com/assets/colab-badge.svg\" alt=\"Open In Colab\"/></a>"
      ]
    },
    {
      "cell_type": "code",
      "metadata": {
        "id": "_obRNRyQDoXb"
      },
      "source": [
        "class no():\n",
        "  def __init__(self):\n",
        "    self.valor = None\n",
        "    self.pai = []\n",
        "    self.filho = []\n",
        "    self.trans = None\n",
        "    \n",
        "main()"
      ],
      "execution_count": null,
      "outputs": []
    },
    {
      "cell_type": "code",
      "metadata": {
        "id": "52lcMZDQQh4r"
      },
      "source": [
        "def inserir_no(u, index, p, t):\n",
        "  u.append(no())\n",
        "  u[index].pai = p\n",
        "  u[index].trans = t"
      ],
      "execution_count": null,
      "outputs": []
    },
    {
      "cell_type": "code",
      "metadata": {
        "id": "0Q8955YQYH37"
      },
      "source": [
        "def main():\n",
        "  #informações inicias da rede\n",
        "  #EXEMPLO 1\n",
        "  \"\"\" \n",
        "  P = [\"p1\",\"p2\",\"p3\"]\n",
        "  T = [\"t1\",\"t2\",\"t3\"]\n",
        "  I = [[1, 0, 0],[0, 1, 0],[0, 0, 1]]\n",
        "  O = [[0, 1, 0],[0, 0, 1],[1, 0, 0]]\n",
        "  M0 = [1,0,0]\n",
        "  \"\"\"\n",
        "\n",
        "  #EXEMPLO 2\n",
        "  \"\"\"\n",
        "  P = [\"p1\",\"p2\"]\n",
        "  T = [\"t1\"]\n",
        "  I = [[1],[0]]\n",
        "  O = [[0, 2]]\n",
        "  M0 = [1,0]\n",
        "  \"\"\"\n",
        "  #EXEMPLO 3\n",
        "  \"\"\"\n",
        "  P = [\"p1\",\"p2\",\"p3\"]\n",
        "  T = [\"t1\",\"t2\",\"t3\"]\n",
        "  I = [[1, 0, 0],[1, 0, 0],[0, 1, 1]]\n",
        "  O = [[1, 1, 0],[0, 1, 1],[0, 0, 1]]\n",
        "  M0 = [1, 0, 0]\n",
        "  \"\"\"\n",
        "\n",
        "  u = []\n",
        "  k = 0\n",
        "  aux = M0.copy()\n",
        "\n",
        "  #Pre = I\n",
        "  #Pos[i][j] = O[j][i]\n",
        "  disparavel = True\n",
        "\n",
        "  raiz = no()\n",
        "  u.append(raiz)\n",
        "  raiz.valor = M0\n",
        "\n",
        "  #fixa j que equivale a transição\n",
        "  for j in range(len(T)):\n",
        "    disparavel = True\n",
        "    #percorre i que equivale aos lugares\n",
        "    for i in range(len(P)):\n",
        "      if u[k].valor[j] < I[i][j]:\n",
        "        disparavel = False\n",
        "        break\n",
        "    if disparavel == True:\n",
        "      print(\"Criar novo nó\")\n",
        "      print(T[j])\n",
        "      k = k + 1\n",
        "      #inserir_no(u, k, raiz, T[i])\n",
        "      u.append(no())\n",
        "      u[k].pai = u[k-1]\n",
        "      u[k].trans = T[j]\n",
        "      u[k].pai.filho = u[k]\n",
        "\n",
        "      #pegar o novo valor de M\n",
        "      for i in range(len(P)):\n",
        "        aux[i] = u[k-1].valor[i] - I[i][j] + O[j][i]\n",
        "      u[k].valor = aux.copy()\n",
        "\n",
        "\n",
        "\n",
        "\n",
        "  for i in range(len(u)):\n",
        "    print(u[i].valor)"
      ],
      "execution_count": 19,
      "outputs": []
    }
  ]
}