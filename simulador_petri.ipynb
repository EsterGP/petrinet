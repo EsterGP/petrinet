{
  "nbformat": 4,
  "nbformat_minor": 0,
  "metadata": {
    "colab": {
      "name": "simulador_petri.ipynb",
      "provenance": [],
      "authorship_tag": "ABX9TyPF3zFmyIexX1LKHIenSsfY",
      "include_colab_link": true
    },
    "kernelspec": {
      "name": "python3",
      "display_name": "Python 3"
    },
    "language_info": {
      "name": "python"
    }
  },
  "cells": [
    {
      "cell_type": "markdown",
      "metadata": {
        "id": "view-in-github",
        "colab_type": "text"
      },
      "source": [
        "<a href=\"https://colab.research.google.com/github/EsterGP/petrinet/blob/main/simulador_petri.ipynb\" target=\"_parent\"><img src=\"https://colab.research.google.com/assets/colab-badge.svg\" alt=\"Open In Colab\"/></a>"
      ]
    },
    {
      "cell_type": "code",
      "metadata": {
        "id": "_obRNRyQDoXb",
        "colab": {
          "base_uri": "https://localhost:8080/"
        },
        "outputId": "120e8a8e-4292-41ea-b65d-fcf4852bbd58"
      },
      "source": [
        "!pip install anytree\n",
        "from anytree import Node, RenderTree\n",
        "\n",
        "class no():\n",
        "  def __init__(self):\n",
        "    self.valor = None\n",
        "    self.pai = []\n",
        "    self.filho = []\n",
        "    self.trans = None\n",
        "\n",
        "main()"
      ],
      "execution_count": 91,
      "outputs": [
        {
          "output_type": "stream",
          "name": "stdout",
          "text": [
            "Requirement already satisfied: anytree in /usr/local/lib/python3.7/dist-packages (2.8.0)\n",
            "Requirement already satisfied: six>=1.9.0 in /usr/local/lib/python3.7/dist-packages (from anytree) (1.15.0)\n",
            "Matriz de Incidência\n",
            "A = \n",
            "[-1, 0, 1]\n",
            "[1, -1, 0]\n",
            "[0, 1, -1]\n",
            "Criar novo nó\n",
            "t1\n",
            "Criar novo nó\n",
            "t2\n",
            "Criar novo nó\n",
            "t3\n",
            "[1, 0, 0]\n",
            "[0, 1, 0]\n",
            "[0, 0, 1]\n",
            "[1, 0, 0]\n",
            "\n",
            "Linguagem da rede\n",
            "['t1', 't2', 't3']\n",
            "\n",
            "Arvore de Alcançabilidade\n",
            "[1, 0, 0]\n",
            "t1\n",
            "└── [0, 1, 0]\n",
            "t2\n",
            "    └── [0, 0, 1]\n",
            "t3\n",
            "        └── [1, 0, 0]\n"
          ]
        }
      ]
    },
    {
      "cell_type": "code",
      "metadata": {
        "id": "52lcMZDQQh4r"
      },
      "source": [
        "def inserir_no(u, index, p, t):\n",
        "  u.append(no())\n",
        "  u[index].pai = p\n",
        "  u[index].trans = t"
      ],
      "execution_count": null,
      "outputs": []
    },
    {
      "cell_type": "code",
      "metadata": {
        "id": "ICfoDbf6EQeW"
      },
      "source": [
        "def matriz_incidencia(Pre, Pos):\n",
        "  A = []\n",
        "  for i in range(len(Pre)):\n",
        "    A.append([])\n",
        "    for j in range(len(Pre[0])):\n",
        "      A[i].append(Pos[i][j] - Pre[i][j])\n",
        "    print(A[i])\n"
      ],
      "execution_count": 86,
      "outputs": []
    },
    {
      "cell_type": "code",
      "metadata": {
        "id": "_gSoxRpaP7MO"
      },
      "source": [
        "def linguagem(L):\n",
        "  print(L)"
      ],
      "execution_count": 89,
      "outputs": []
    },
    {
      "cell_type": "code",
      "metadata": {
        "id": "0Q8955YQYH37"
      },
      "source": [
        "def main():\n",
        "  #informações inicias da rede\n",
        "  #EXEMPLO 1\n",
        "  \n",
        "  P = [\"p1\",\"p2\",\"p3\"]  #Lugares\n",
        "  T = [\"t1\",\"t2\",\"t3\"]  #Transições\n",
        "  Pre = [[1, 0, 0],[0, 1, 0],[0, 0, 1]]\n",
        "  Pos = [[0, 0, 1],[1, 0, 0],[0, 1, 0]]\n",
        "  M0 = [1,0,0]          #marcação inicial\n",
        "  \n",
        "\n",
        "  #EXEMPLO 2\n",
        "  \"\"\"\n",
        "  P = [\"p1\",\"p2\"]\n",
        "  T = [\"t1\"]\n",
        "  Pre = [[1], [0]]\n",
        "  Pos = [[0], [2]]\n",
        "  M0 = [1,0]\n",
        "  \"\"\"\n",
        "\n",
        "  #EXEMPLO 3\n",
        "  \"\"\"\n",
        "  P = [\"p1\",\"p2\",\"p3\"]\n",
        "  T = [\"t1\",\"t2\",\"t3\"]\n",
        "  Pre = [[1, 0, 0],[1, 0, 0],[0, 1, 1]]\n",
        "  Pos = [[1, 0, 0],[1, 1, 0],[0, 1, 1]]\n",
        "  M0 = [1, 0, 0]\n",
        "  \"\"\"\n",
        "\n",
        "  print(\"Matriz de Incidência\")\n",
        "  print(\"A = \")\n",
        "  matriz_incidencia(Pre, Pos)\n",
        "\n",
        "  L = [] #Linguagem da rede\n",
        "  u = [] #Lista com as marcações\n",
        "  k = 0\n",
        "  aux = M0.copy()\n",
        "\n",
        "  disparavel = True\n",
        "\n",
        "  raiz = no()\n",
        "  root = Node(M0)\n",
        "  u.append(raiz)\n",
        "  raiz.valor = M0\n",
        "\n",
        "  #fixa j que equivale a transição\n",
        "  for j in range(len(T)):\n",
        "    disparavel = True\n",
        "\n",
        "    #percorre i que equivale aos lugares\n",
        "    for i in range(len(P)):\n",
        "      if u[k].valor[j] < Pre[i][j]:\n",
        "        disparavel = False\n",
        "        break\n",
        "    if disparavel == True:\n",
        "      print(\"Criar novo nó\")\n",
        "      print(T[j])\n",
        "      L.append(T[j])\n",
        "      k = k + 1\n",
        "\n",
        "      #inserir_no(u, k, raiz, T[i])\n",
        "\n",
        "      u.append(no())\n",
        "      u[k].pai = u[k-1]\n",
        "      u[k].trans = T[j]\n",
        "      u[k].pai.filho = u[k]\n",
        "\n",
        "      #pegar o novo valor de M\n",
        "      for i in range(len(P)):\n",
        "        aux[i] = u[k-1].valor[i] - Pre[i][j] + Pos[i][j]\n",
        "      u[k].valor = aux.copy()\n",
        "\n",
        "  for i in range(len(u)):\n",
        "    print(u[i].valor)\n",
        "\n",
        "  print(\"\\nLinguagem da rede\")\n",
        "  linguagem(L)\n",
        "\n",
        "  tamanho = len(u)\n",
        "\n",
        "  print(\"\\nArvore de Alcançabilidade\")\n",
        "  if len(u) >= 2:\n",
        "    level_1_child_1 = Node(u[1].valor, parent=root)\n",
        "  if len(u) >= 3:\n",
        "    level_2_child_1 = Node(u[2].valor, parent=level_1_child_1)\n",
        "  if len(u) >= 4:\n",
        "    level_3_child_1 = Node(u[3].valor, parent=level_2_child_1)\n",
        "\n",
        "  i = 0\n",
        "  for pre, fill, node in RenderTree(root):\n",
        "    print(\"%s%s\" % (pre, node.name))\n",
        "    if i < tamanho-1:\n",
        "      print(T[i])\n",
        "      i += 1"
      ],
      "execution_count": 90,
      "outputs": []
    }
  ]
}